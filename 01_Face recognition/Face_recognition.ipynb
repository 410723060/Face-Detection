{
 "cells": [
  {
   "cell_type": "markdown",
   "metadata": {},
   "source": [
    "## 匯入模塊\n",
    "* OpenCV\n",
    "* Sys (Python基本系統模塊)\n",
    "* PIL (Python Imaging Library)"
   ]
  },
  {
   "cell_type": "code",
   "execution_count": 4,
   "metadata": {},
   "outputs": [],
   "source": [
    "import cv2\n",
    "import sys\n",
    "from PIL import Image"
   ]
  },
  {
   "cell_type": "markdown",
   "metadata": {},
   "source": [
    "## 建立CatchUsbVideo函數\n",
    "* 輸入為視窗名稱(window_name)與預顯示的攝影機\n",
    "* 目的為建立一OpenCV的人臉識別框出人臉\n",
    "\n",
    "***\n",
    "\n",
    "### 程式碼解釋\n",
    "1. 建立視窗\n",
    "2. 讀取影片/攝影機\n",
    "3. 匯入人臉辨識器\n",
    "4. 先定義框出的顏色\n",
    "5. while迴圈開啟影片/攝影機來回傳frame\n",
    "6. 將frame從BGR轉為灰階，存入grey\n",
    "7. 給予人臉辨識器的參數，並放入灰階影像grey\n",
    "8. if判斷是否有人臉(len(grey)>0)，若有則在frame中畫出矩形\n",
    "9. 視窗來顯示畫面\n",
    "10. 鍵盤按下q則關閉視窗\n",
    "11. 釋放攝影機\n",
    "12. 關閉所有 OpenCV 視窗"
   ]
  },
  {
   "cell_type": "code",
   "execution_count": 7,
   "metadata": {},
   "outputs": [],
   "source": [
    "def CatchUsbVideo(window_name, camera_idx):\n",
    "    cv2.namedWindow(window_name)\n",
    "    cap = cv2.VideoCapture(\"Video1.mp4\") \n",
    "    \n",
    "    classfier = cv2.CascadeClassifier(\"haarcascades/haarcascade_frontalface_default.xml\")\n",
    "    classfier.load(\"haarcascades/haarcascade_frontalface_default.xml\")\n",
    "    \n",
    "    color = (0, 255, 0)\n",
    "        \n",
    "    while cap.isOpened():\n",
    "        ok, frame = cap.read() \n",
    "        if not ok:            \n",
    "            break  \n",
    "        \n",
    "        grey = cv2.cvtColor(frame, cv2.COLOR_BGR2GRAY)                 \n",
    "        \n",
    "        faceRects = classfier.detectMultiScale(grey, scaleFactor = 1.2, minNeighbors = 5, minSize = (30, 30))\n",
    "        if len(faceRects) > 0:                                          \n",
    "            for faceRect in faceRects:  \n",
    "                x, y, w, h = faceRect        \n",
    "                cv2.rectangle(frame, (x - 10, y - 10), (x + w + 10, y + h + 10), color, 2)\n",
    "                        \n",
    "        cv2.imshow(window_name, frame)        \n",
    "        c = cv2.waitKey(1)\n",
    "        if c & 0xFF == ord('q'):\n",
    "            break        \n",
    "    \n",
    "    cap.release()\n",
    "    cv2.destroyAllWindows() "
   ]
  },
  {
   "cell_type": "markdown",
   "metadata": {},
   "source": [
    "### 呼叫以上寫好的CatchUsbVideo函數"
   ]
  },
  {
   "cell_type": "code",
   "execution_count": 8,
   "metadata": {},
   "outputs": [],
   "source": [
    "if __name__ == '__main__':\n",
    "    CatchUsbVideo(\"catch fice\", 0)"
   ]
  }
 ],
 "metadata": {
  "kernelspec": {
   "display_name": "Python 3",
   "language": "python",
   "name": "python3"
  },
  "language_info": {
   "codemirror_mode": {
    "name": "ipython",
    "version": 3
   },
   "file_extension": ".py",
   "mimetype": "text/x-python",
   "name": "python",
   "nbconvert_exporter": "python",
   "pygments_lexer": "ipython3",
   "version": "3.7.6"
  }
 },
 "nbformat": 4,
 "nbformat_minor": 4
}
