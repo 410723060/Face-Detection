{
 "cells": [
  {
   "cell_type": "markdown",
   "metadata": {},
   "source": [
    "## 匯入模塊\n",
    "* OpenCV\n",
    "* Sys (Python基本系統模塊)\n",
    "* PIL (Python Imaging Library)"
   ]
  },
  {
   "cell_type": "code",
   "execution_count": 2,
   "metadata": {},
   "outputs": [],
   "source": [
    "import cv2\n",
    "import sys\n",
    "from PIL import Image\n",
    "import imageio"
   ]
  },
  {
   "cell_type": "markdown",
   "metadata": {},
   "source": [
    "## 建立CatchPICFromVideo函數\n",
    "* 輸入為視窗名稱(window_name)、預顯示的攝影機、預存的影像數量與影像儲存位置\n",
    "* 目的為建立一OpenCV的人臉識別框出人臉，並將人臉儲存\n",
    "\n",
    "***\n",
    "\n",
    "### 程式碼解釋\n",
    "1. 建立視窗\n",
    "2. 讀取影片/攝影機\n",
    "3. 匯入人臉辨識器\n",
    "4. 先定義框出的顏色\n",
    "5. 計數器數值初始化(num=0)\n",
    "6. while迴圈開啟影片/攝影機來回傳frame\n",
    "7. 將frame從BGR轉為灰階，存入grey\n",
    "8. 給予人臉辨識器的參數，並放入灰階影像grey\n",
    "9. if判斷是否有人臉(len(grey)>0)，若有則：\n",
    "    * 擷取該frame中的人臉，並從BGR轉成RGB將該影像儲存\n",
    "    * 計數器數值加一\n",
    "    * 在frame中畫出矩形，目前擷取的計數器數值(num)\n",
    "    * 若計數器數值大於預存的影像數量(num>catch_pic_num)，則跳出while迴圈\n",
    "10. 視窗來顯示畫面\n",
    "10. 鍵盤按下q則關閉視窗\n",
    "11. 釋放攝影機\n",
    "12. 關閉所有 OpenCV 視窗"
   ]
  },
  {
   "cell_type": "code",
   "execution_count": 8,
   "metadata": {},
   "outputs": [],
   "source": [
    "def CatchPICFromVideo(window_name, camera_idx, catch_pic_num, path_name):\n",
    "    \n",
    "    cv2.namedWindow(window_name)\n",
    "    cap = cv2.VideoCapture(\"Video1.mp4\")               \n",
    "\n",
    "    classfier = cv2.CascadeClassifier(\"haarcascades/haarcascade_frontalface_default.xml\")\n",
    "    classfier.load('haarcascades/haarcascade_frontalface_default.xml')\n",
    "\n",
    "    color = (0, 255, 0)\n",
    "    \n",
    "    num = 0    \n",
    "    while cap.isOpened():\n",
    "        ok, frame = cap.read() \n",
    "        if not ok:            \n",
    "            break                \n",
    "    \n",
    "        grey = cv2.cvtColor(frame, cv2.COLOR_BGR2GRAY)            \n",
    "        \n",
    "        faceRects = classfier.detectMultiScale(grey, scaleFactor = 1.1, minNeighbors = 8, minSize = (55, 55))\n",
    "        if len(faceRects) > 0:                                            \n",
    "            for faceRect in faceRects:  \n",
    "                x, y, w, h = faceRect                        \n",
    "                \n",
    "                img_name = '%d.jpg'%(num)        \n",
    "                image = frame[y - 10: y + h + 10, x - 10: x + w + 10]\n",
    "                image = cv2.cvtColor(image, cv2.COLOR_BGR2RGB)\n",
    "                imageio.imwrite(path_name+img_name,image)  \n",
    "                                \n",
    "                num += 1                \n",
    "                if num > (catch_pic_num):   \n",
    "                    break\n",
    "                \n",
    "                cv2.rectangle(frame, (x - 10, y - 10), (x + w + 10, y + h + 10), color, 2)\n",
    "                \n",
    "                font = cv2.FONT_HERSHEY_SIMPLEX\n",
    "                cv2.putText(frame,'Num:%d' % (num),(15, 15), font, 0.5, (0,255,255),1)                \n",
    "        \n",
    "        if num > (catch_pic_num): break                \n",
    "                       \n",
    "        cv2.imshow(window_name, frame)        \n",
    "        c = cv2.waitKey(10)\n",
    "        if c & 0xFF == ord('q'):\n",
    "            break        \n",
    "    \n",
    "    cap.release()\n",
    "    cv2.destroyAllWindows() "
   ]
  },
  {
   "cell_type": "markdown",
   "metadata": {},
   "source": [
    "## 呼叫以上寫好的CatchPICFromVideo函數"
   ]
  },
  {
   "cell_type": "code",
   "execution_count": 9,
   "metadata": {},
   "outputs": [],
   "source": [
    "if __name__ == '__main__':\n",
    "    CatchPICFromVideo(\"catch fice\", 0, 10000, \"Save Face/\")"
   ]
  }
 ],
 "metadata": {
  "kernelspec": {
   "display_name": "Python 3",
   "language": "python",
   "name": "python3"
  },
  "language_info": {
   "codemirror_mode": {
    "name": "ipython",
    "version": 3
   },
   "file_extension": ".py",
   "mimetype": "text/x-python",
   "name": "python",
   "nbconvert_exporter": "python",
   "pygments_lexer": "ipython3",
   "version": "3.7.6"
  }
 },
 "nbformat": 4,
 "nbformat_minor": 4
}
